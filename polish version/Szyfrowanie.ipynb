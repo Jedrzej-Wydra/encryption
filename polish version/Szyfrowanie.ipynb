{
  "nbformat": 4,
  "nbformat_minor": 0,
  "metadata": {
    "colab": {
      "provenance": []
    },
    "kernelspec": {
      "name": "python3",
      "display_name": "Python 3"
    },
    "language_info": {
      "name": "python"
    }
  },
  "cells": [
    {
      "cell_type": "markdown",
      "source": [
        "# Szyfrowanie\n",
        "###### autor: Jędrzej Wydra\n",
        "_______________________________"
      ],
      "metadata": {
        "id": "16GQbRXMEPT5"
      }
    },
    {
      "cell_type": "markdown",
      "source": [
        "Uruchom poniższą komórkę, aby przygotować środowisko Pythona"
      ],
      "metadata": {
        "id": "Kbr84xp818qK"
      }
    },
    {
      "cell_type": "code",
      "source": [
        "# @title Przygotowanie środowiska\n",
        "import random\n",
        "import math\n",
        "import time\n",
        "import matplotlib.pyplot as plt\n",
        "import numpy as np\n",
        "import time\n",
        "from tqdm import tqdm\n",
        "\n",
        "def rozklad_na_czynniki_pierwsze(x):\n",
        "    czynniki = []\n",
        "    dzielnik = 2\n",
        "\n",
        "    while dzielnik * dzielnik <= x:\n",
        "        while x % dzielnik == 0:\n",
        "            czynniki.append(dzielnik)\n",
        "            x //= dzielnik\n",
        "        dzielnik += 1\n",
        "\n",
        "    if x > 1:\n",
        "        czynniki.append(x)\n",
        "\n",
        "    return czynniki\n",
        "\n",
        "def is_primitive_root(alpha, p, prime_factors):\n",
        "    phi = p - 1\n",
        "    for q in prime_factors:\n",
        "        if pow(alpha, phi // q, p) == 1:\n",
        "            return False\n",
        "    return True\n",
        "\n",
        "max_len = 3"
      ],
      "metadata": {
        "cellView": "form",
        "id": "BJ1PucWlTY2w"
      },
      "execution_count": 3,
      "outputs": []
    },
    {
      "cell_type": "markdown",
      "source": [
        "Komórka \"Własny tekst\" umożliwia testowanie algorytmów z wykorzystaniem dowolnie wybranego tekstu. Komórka \"Domyślny tekst\" dostarcza przygotowany przez Autora przykład. Uruchom tylko jedną z nich."
      ],
      "metadata": {
        "id": "30RK0YgV2FPb"
      }
    },
    {
      "cell_type": "code",
      "source": [
        "# @title Własny tekst\n",
        "text = input('Podaj tekst do zaszyfrowania: ')\n",
        "print('Tekst został wczytany.')"
      ],
      "metadata": {
        "cellView": "form",
        "id": "RWVxcQU8qwbM"
      },
      "execution_count": null,
      "outputs": []
    },
    {
      "cell_type": "code",
      "source": [
        "# @title Domyślny tekst\n",
        "text = 'informacja publiczna i ochrona danych osobowych'.upper()\n",
        "print('Załadowany pomyślnie.')"
      ],
      "metadata": {
        "cellView": "form",
        "id": "QLW6sNXNqsDe",
        "colab": {
          "base_uri": "https://localhost:8080/"
        },
        "outputId": "c843fe8c-ce40-43b8-f44a-e17c2b83e8bb"
      },
      "execution_count": null,
      "outputs": [
        {
          "output_type": "stream",
          "name": "stdout",
          "text": [
            "Załadowany pomyślnie.\n"
          ]
        }
      ]
    },
    {
      "cell_type": "markdown",
      "source": [
        "W pierwszej kolejności obejrzyjmy jak działa \"naiwne\" szyforwanie lub (jak również można to nazwać), kodowanie wiadomości za pomocą liczb."
      ],
      "metadata": {
        "id": "xxKYAZhA2a4v"
      }
    },
    {
      "cell_type": "code",
      "source": [
        "# @title Szyfrowanie naiwne\n",
        "\n",
        "print('____________________________________________________________________________________________________________________________')\n",
        "print('\\n')\n",
        "\n",
        "text = 'informacja publiczna i ochrona danych osobowych'.upper()\n",
        "\n",
        "text_split = list(set(list(text)))\n",
        "random.shuffle(text_split)\n",
        "number = [i + 10 for i in list(range(len(text_split)))]\n",
        "\n",
        "key = dict(zip(text_split, number))\n",
        "\n",
        "print('Informacja do zaszyfrowania: ' + text)\n",
        "print('\\n')\n",
        "print('Klucz szyfrujący: ')\n",
        "print('\\n')\n",
        "\n",
        "space = ' |  '\n",
        "\n",
        "line1 = '|  '\n",
        "for i in text_split:\n",
        "  line1 += i + space\n",
        "print(line1)\n",
        "\n",
        "break_line = ''\n",
        "for i in range(101):\n",
        "  break_line += '-'\n",
        "\n",
        "print(break_line)\n",
        "\n",
        "space = ' | '\n",
        "\n",
        "line2 = '| '\n",
        "for i in number:\n",
        "  line2 += str(i) + space\n",
        "print(line2)\n",
        "\n",
        "#####################\n",
        "\n",
        "encrypted_text = ''\n",
        "for i in text:\n",
        "  encrypted_text += str(key[i]) + '-'\n",
        "\n",
        "prep_to_encrypt = encrypted_text[:-1]\n",
        "\n",
        "n_seg = 0\n",
        "for i in prep_to_encrypt.split('-'):\n",
        "  if len(i) > n_seg:\n",
        "    n_seg = len(i)\n",
        "\n",
        "print('\\n')\n",
        "print('Informacja zaszyfrowana: ' + prep_to_encrypt)\n",
        "\n",
        "print('____________________________________________________________________________________________________________________________')\n",
        "print('\\n')"
      ],
      "metadata": {
        "cellView": "form",
        "id": "kpDTua4hfBKg",
        "colab": {
          "base_uri": "https://localhost:8080/"
        },
        "outputId": "24902ddd-fb96-4d4e-f93c-71fca48584bd"
      },
      "execution_count": null,
      "outputs": [
        {
          "output_type": "stream",
          "name": "stdout",
          "text": [
            "____________________________________________________________________________________________________________________________\n",
            "\n",
            "\n",
            "Informacja do zaszyfrowania: INFORMACJA PUBLICZNA I OCHRONA DANYCH OSOBOWYCH\n",
            "\n",
            "\n",
            "Klucz szyfrujący: \n",
            "\n",
            "\n",
            "|  R |  B |  S |  W |  H |    |  I |  C |  Y |  D |  O |  J |  N |  F |  A |  P |  Z |  U |  M |  L |  \n",
            "-----------------------------------------------------------------------------------------------------\n",
            "| 10 | 11 | 12 | 13 | 14 | 15 | 16 | 17 | 18 | 19 | 20 | 21 | 22 | 23 | 24 | 25 | 26 | 27 | 28 | 29 | \n",
            "\n",
            "\n",
            "Informacja zaszyfrowana: 16-22-23-20-10-28-24-17-21-24-15-25-27-11-29-16-17-26-22-24-15-16-15-20-17-14-10-20-22-24-15-19-24-22-18-17-14-15-20-12-20-11-20-13-18-17-14\n",
            "____________________________________________________________________________________________________________________________\n",
            "\n",
            "\n"
          ]
        }
      ]
    },
    {
      "cell_type": "markdown",
      "source": [
        "Komórka \"Domyślne dane\" załaduje dane, które wygenerują klucze do szyforwania, które wymyślił autor. Gdy pierwszy raz korzystasz z tego notatnika zalecam uruchomić właśnie tę komórkę, aby zoaczyć o co chodzi. Komórka \"Własne dane\" umożliwa wygenerowanie kluczy według własnego pomysłu."
      ],
      "metadata": {
        "id": "y05HhD682p4T"
      }
    },
    {
      "cell_type": "code",
      "source": [
        "# @title Domyślne dane\n",
        "\n",
        "P = 23\n",
        "a = 4\n",
        "b = 5\n",
        "\n",
        "print('Dane załadowane pomyślnie.')"
      ],
      "metadata": {
        "cellView": "form",
        "id": "EYd4JbCUrUT3",
        "colab": {
          "base_uri": "https://localhost:8080/"
        },
        "outputId": "edfbf5e5-efca-4d6f-96c4-90f778829e0f"
      },
      "execution_count": null,
      "outputs": [
        {
          "output_type": "stream",
          "name": "stdout",
          "text": [
            "Dane załadowane pomyślnie.\n"
          ]
        }
      ]
    },
    {
      "cell_type": "code",
      "source": [
        "# @title Własne dane\n",
        "\n",
        "a = input('Tajna liczba osoby A: ')\n",
        "b = input('Tajna liczba osoby B: ')\n",
        "P = input('Jawna liczba P: ')\n",
        "\n",
        "a = int(a)\n",
        "b = int(b)\n",
        "P = int(P)\n",
        "\n",
        "print('Dane załadowane pomyślnie.')"
      ],
      "metadata": {
        "cellView": "form",
        "id": "ILtJKQeAsYEO"
      },
      "execution_count": null,
      "outputs": []
    },
    {
      "cell_type": "markdown",
      "source": [
        "Poniższa komórka generuje klucze na podstawie wyżej załadowanych danych."
      ],
      "metadata": {
        "id": "xHRrxIOB3HIV"
      }
    },
    {
      "cell_type": "code",
      "source": [
        "# @title Generowanie kluczy\n",
        "\n",
        "print('____________________________________________________________________________________________________________________________')\n",
        "print('\\n')\n",
        "\n",
        "print(f'Dwie osoby (A i B) wybierają jawnie pewną liczbę P. Niech tą liczbą będzie {P}.')\n",
        "print('\\n')\n",
        "print(f'Osoba A wybiera teraz pewnien klucz a, np a = {a} i mnoży to przez P.')\n",
        "print(f'Osoba B wybiera pewnien klucz b, np b = {b} i mnoży to przez P.')\n",
        "print('\\n')\n",
        "print('Wówczas:')\n",
        "print('\\n')\n",
        "print(f'Informacja publiczna: {P}')\n",
        "print('\\n')\n",
        "print('Informacje, których nie trzeba ukrywać, ale trzeba przesłać:')\n",
        "print(f'Osoba A: {P} * {a} = {a*P}')\n",
        "print(f'Osoba B: {P} * {b} = {b*P}')\n",
        "print('\\n')\n",
        "print(f'Tajna informacja osoby A: {a}')\n",
        "print(f'Tajna informacja osoby B: {b}')\n",
        "print('\\n')\n",
        "print(f'Klucz do szyfrowania: {a} * {b} * {P} = {a*b*P}')\n",
        "print('\\n')\n",
        "print('\\n')\n",
        "print(f'Klucz publiczny osoby A: {P}-{a*P}')\n",
        "print(f'Klucz publiczny osoby B: {P}-{b*P}')\n",
        "print('\\n')\n",
        "print(f'Klucz prywatny osoby A: {a}')\n",
        "print(f'Klucz prywatny osoby B: {b}')\n",
        "\n",
        "print('____________________________________________________________________________________________________________________________')\n",
        "print('\\n')"
      ],
      "metadata": {
        "cellView": "form",
        "id": "RUCakcIaG8MX",
        "colab": {
          "base_uri": "https://localhost:8080/"
        },
        "outputId": "a2e0a510-0c88-4f76-b270-f38ba48e184d"
      },
      "execution_count": null,
      "outputs": [
        {
          "output_type": "stream",
          "name": "stdout",
          "text": [
            "____________________________________________________________________________________________________________________________\n",
            "\n",
            "\n",
            "Dwie osoby (A i B) wybierają jawnie pewną liczbę P. Niech tą liczbą będzie 23.\n",
            "\n",
            "\n",
            "Osoba A wybiera teraz pewnien klucz a, np a = 4 i mnoży to przez P.\n",
            "Osoba B wybiera pewnien klucz b, np b = 5 i mnoży to przez P.\n",
            "\n",
            "\n",
            "Wówczas:\n",
            "\n",
            "\n",
            "Informacja publiczna: 23\n",
            "\n",
            "\n",
            "Informacje, których nie trzeba ukrywać, ale trzeba przesłać:\n",
            "Osoba A: 23 * 4 = 92\n",
            "Osoba B: 23 * 5 = 115\n",
            "\n",
            "\n",
            "Tajna informacja osoby A: 4\n",
            "Tajna informacja osoby B: 5\n",
            "\n",
            "\n",
            "Klucz do szyfrowania: 4 * 5 * 23 = 460\n",
            "\n",
            "\n",
            "\n",
            "\n",
            "Klucz publiczny osoby A: 23-92\n",
            "Klucz publiczny osoby B: 23-115\n",
            "\n",
            "\n",
            "Klucz prywatny osoby A: 4\n",
            "Klucz prywatny osoby B: 5\n",
            "____________________________________________________________________________________________________________________________\n",
            "\n",
            "\n"
          ]
        }
      ]
    },
    {
      "cell_type": "markdown",
      "source": [
        "Poniższa komórka szyfruje dane zgodnie z osłabionym protokołem Diffiego-Hellmanna. To tylko dydatktyczny przykład idei szyfrowania. Poprawna wersja protokołu jest zaprezentowana dalej, wraz z formalną definicją."
      ],
      "metadata": {
        "id": "PbteK7gx3N2f"
      }
    },
    {
      "cell_type": "code",
      "source": [
        "# @title Szyfrowanie przez osobę B\n",
        "\n",
        "print('____________________________________________________________________________________________________________________________')\n",
        "print('\\n')\n",
        "\n",
        "public_key_a = input('Podaj klucz publiczny osoby A: ')\n",
        "print('\\n')\n",
        "private_key_b = input('Podaj klucz prywatny osoby B: ')\n",
        "print('\\n')\n",
        "encrypt = prep_to_encrypt.split('-')\n",
        "\n",
        "encrypted_message = [str(int(i) + int(public_key_a.split('-')[1])*int(private_key_b)) for i in encrypt]\n",
        "print('\\n')\n",
        "full_encrypted_message = ''\n",
        "for i in encrypted_message:\n",
        "  full_encrypted_message += i + '-'\n",
        "\n",
        "full_encrypted_message = full_encrypted_message[:-1]\n",
        "print('Zaszyfrowana wiadomość: ')\n",
        "print(full_encrypted_message)\n",
        "\n",
        "print('____________________________________________________________________________________________________________________________')\n",
        "print('\\n')"
      ],
      "metadata": {
        "cellView": "form",
        "id": "d5KoCUuFjXX9",
        "colab": {
          "base_uri": "https://localhost:8080/"
        },
        "outputId": "692afa7f-2b21-4f0e-f315-458aad5846d0"
      },
      "execution_count": null,
      "outputs": [
        {
          "output_type": "stream",
          "name": "stdout",
          "text": [
            "____________________________________________________________________________________________________________________________\n",
            "\n",
            "\n",
            "Podaj klucz publiczny osoby A: 23-92\n",
            "\n",
            "\n",
            "Podaj klucz prywatny osoby B: 5\n",
            "\n",
            "\n",
            "\n",
            "\n",
            "Zaszyfrowana wiadomość: \n",
            "476-482-483-480-470-488-484-477-481-484-475-485-487-471-489-476-477-486-482-484-475-476-475-480-477-474-470-480-482-484-475-479-484-482-478-477-474-475-480-472-480-471-480-473-478-477-474\n",
            "____________________________________________________________________________________________________________________________\n",
            "\n",
            "\n"
          ]
        }
      ]
    },
    {
      "cell_type": "markdown",
      "source": [
        "Próba odkodowania zaszyfrowanej wiadomości. Gdy jakiś kod jest nieznany, to program zwraca \"?\". Tzn., kodowaliśmy zgodnie z kluczem szyfrującym szyfrowania naiwnego (kilka komórek wyżej). Jeśli w kodzie pojawia się liczba, której nie ma w tamtej tabeli, to program zwraca \"?\"."
      ],
      "metadata": {
        "id": "1ZNa7Eyl3j3N"
      }
    },
    {
      "cell_type": "code",
      "source": [
        "# @title Pierwsza próba odczytu\n",
        "\n",
        "print('____________________________________________________________________________________________________________________________')\n",
        "print('\\n')\n",
        "\n",
        "un_key = dict(zip(number, text_split))\n",
        "\n",
        "prep_to_decrypt = full_encrypted_message\n",
        "\n",
        "message = ''\n",
        "for i in prep_to_decrypt.split('-'):\n",
        "  if int(i) in un_key.keys():\n",
        "    message += un_key[int(i)]\n",
        "  else:\n",
        "    message += '?'\n",
        "\n",
        "print('\\n')\n",
        "print('Odszyfrowana wiadomość: ' + message)\n",
        "\n",
        "print('____________________________________________________________________________________________________________________________')\n",
        "print('\\n')"
      ],
      "metadata": {
        "cellView": "form",
        "id": "mZP-CHlMkBT3",
        "colab": {
          "base_uri": "https://localhost:8080/"
        },
        "outputId": "3e3c393d-f46c-4952-c395-fb853dd67917"
      },
      "execution_count": null,
      "outputs": [
        {
          "output_type": "stream",
          "name": "stdout",
          "text": [
            "____________________________________________________________________________________________________________________________\n",
            "\n",
            "\n",
            "\n",
            "\n",
            "Odszyfrowana wiadomość: ???????????????????????????????????????????????\n",
            "____________________________________________________________________________________________________________________________\n",
            "\n",
            "\n"
          ]
        }
      ]
    },
    {
      "cell_type": "markdown",
      "source": [
        "Odszyfrowywanie wiadomości na podstawie kluczy, aby wrócić do pierwotnego kodu wiadomości."
      ],
      "metadata": {
        "id": "yEEw1sNq4PoR"
      }
    },
    {
      "cell_type": "code",
      "source": [
        "# @title Odszyfrowanie przez osobę A\n",
        "\n",
        "print('____________________________________________________________________________________________________________________________')\n",
        "print('\\n')\n",
        "\n",
        "public_key_b = input('Podaj klucz publiczny osoby B: ')\n",
        "print('\\n')\n",
        "private_key_a = input('Podaj klucz prywatny osoby A: ')\n",
        "print('\\n')\n",
        "encrypt = full_encrypted_message.split('-')\n",
        "\n",
        "decrypted_message = [str(int(i) - int(public_key_b.split('-')[1])*int(private_key_a)) for i in encrypt]\n",
        "print('\\n')\n",
        "full_decrypted_message = ''\n",
        "for i in decrypted_message:\n",
        "  full_decrypted_message += i + '-'\n",
        "\n",
        "full_decrypted_message = full_decrypted_message[:-1]\n",
        "print('Odszyfrowana wiadomość: ')\n",
        "print(full_decrypted_message)\n",
        "\n",
        "print('____________________________________________________________________________________________________________________________')\n",
        "print('\\n')"
      ],
      "metadata": {
        "cellView": "form",
        "id": "d101_p6CNNCp",
        "colab": {
          "base_uri": "https://localhost:8080/"
        },
        "outputId": "f0d10c56-32a9-4cc5-f57a-c0af3e1f4355"
      },
      "execution_count": null,
      "outputs": [
        {
          "output_type": "stream",
          "name": "stdout",
          "text": [
            "____________________________________________________________________________________________________________________________\n",
            "\n",
            "\n",
            "Podaj klucz publiczny osoby B: 23-115\n",
            "\n",
            "\n",
            "Podaj klucz prywatny osoby A: 4\n",
            "\n",
            "\n",
            "\n",
            "\n",
            "Odszyfrowana wiadomość: \n",
            "16-22-23-20-10-28-24-17-21-24-15-25-27-11-29-16-17-26-22-24-15-16-15-20-17-14-10-20-22-24-15-19-24-22-18-17-14-15-20-12-20-11-20-13-18-17-14\n",
            "____________________________________________________________________________________________________________________________\n",
            "\n",
            "\n"
          ]
        }
      ]
    },
    {
      "cell_type": "code",
      "source": [
        "# @title Druga próba odczytu\n",
        "\n",
        "print('____________________________________________________________________________________________________________________________')\n",
        "print('\\n')\n",
        "\n",
        "prep_to_decrypt = full_decrypted_message\n",
        "\n",
        "message = ''\n",
        "for i in prep_to_decrypt.split('-'):\n",
        "  if int(i) in un_key.keys():\n",
        "    message += un_key[int(i)]\n",
        "  else:\n",
        "    message += '?'\n",
        "\n",
        "print('\\n')\n",
        "print('Odszyfrowana wiadomość: ' + message)\n",
        "\n",
        "print('____________________________________________________________________________________________________________________________')\n",
        "print('\\n')"
      ],
      "metadata": {
        "cellView": "form",
        "id": "ZuiiCF2TO2Hi",
        "colab": {
          "base_uri": "https://localhost:8080/"
        },
        "outputId": "334eae1e-2340-4cc0-83ed-980f8e440ce9"
      },
      "execution_count": null,
      "outputs": [
        {
          "output_type": "stream",
          "name": "stdout",
          "text": [
            "____________________________________________________________________________________________________________________________\n",
            "\n",
            "\n",
            "\n",
            "\n",
            "Odszyfrowana wiadomość: INFORMACJA PUBLICZNA I OCHRONA DANYCH OSOBOWYCH\n",
            "____________________________________________________________________________________________________________________________\n",
            "\n",
            "\n"
          ]
        }
      ]
    },
    {
      "cell_type": "code",
      "source": [
        "# @title Łamanie kodu przy znajomości kluczy publicznych\n",
        "\n",
        "print('____________________________________________________________________________________________________________________________')\n",
        "print('\\n')\n",
        "\n",
        "start = time.time()\n",
        "\n",
        "print('Klucz publiczy osoby A: ' + public_key_a)\n",
        "\n",
        "print('Klucz publiczy osoby B: ' + public_key_b)\n",
        "print('\\n')\n",
        "print('Stąd:')\n",
        "l1 = [int(i) for i in public_key_a.split('-')]\n",
        "l2 = [int(i) for i in public_key_b.split('-')]\n",
        "\n",
        "hacked_private_key_a = int(l1[1]/l1[0])\n",
        "hacked_private_key_b = int(l2[1]/l2[0])\n",
        "\n",
        "print('Klucz prywatny osoby A: ' + str(hacked_private_key_a))\n",
        "print('Klucz prywatny osoby B: ' + str(hacked_private_key_b))\n",
        "\n",
        "end = time.time()\n",
        "\n",
        "check = end - start\n",
        "\n",
        "print('\\n')\n",
        "print('Czas łamania kodu: ' + str(end - start) + ' s.')\n",
        "\n",
        "print('____________________________________________________________________________________________________________________________')\n",
        "print('\\n')"
      ],
      "metadata": {
        "cellView": "form",
        "id": "_p7sO5QPRnGi",
        "colab": {
          "base_uri": "https://localhost:8080/"
        },
        "outputId": "a257f24b-a877-437f-c81f-ef70370fbfc1"
      },
      "execution_count": null,
      "outputs": [
        {
          "output_type": "stream",
          "name": "stdout",
          "text": [
            "____________________________________________________________________________________________________________________________\n",
            "\n",
            "\n",
            "Klucz publiczy osoby A: 23-92\n",
            "Klucz publiczy osoby B: 23-115\n",
            "\n",
            "\n",
            "Stąd:\n",
            "Klucz prywatny osoby A: 4\n",
            "Klucz prywatny osoby B: 5\n",
            "\n",
            "\n",
            "Czas łamania kodu: 0.0004892349243164062 s.\n",
            "____________________________________________________________________________________________________________________________\n",
            "\n",
            "\n"
          ]
        }
      ]
    },
    {
      "cell_type": "markdown",
      "source": [
        "### A gdyby tak działanie nie było takie proste?\n",
        "\n",
        "#### **Definicja 1. (grupa)**\n",
        "Niech $G$ będzie pewnym zbiorem, a $ * : G \\times G \\rightarrow G$ pewnym działaniem na zbiorze $G$.\n",
        "Parę $(G, *)$ nazwiemy grupą, gdy:\n",
        "\n",
        "1) Dla każdego $a, b, c \\in G$\n",
        "$$\n",
        "(a * b) * c = a * (b * c)\n",
        "$$\n",
        "\n",
        "2) Istnieje taki element $ e \\in G $, że dla każdego $a \\in G$\n",
        "$$\n",
        "a * e = e * a = a\n",
        "$$\n",
        "\n",
        "3) Dla każdego $ a \\in G $ istnieje element $ a^{-1} \\in G $, taki że:\n",
        "  $$\n",
        "  a * a^{-1} = a^{-1} * a = e\n",
        "  $$\n",
        "\n",
        "Dodatkowo, jeśli:\n",
        "\n",
        "4) Dla każdego $ a, b \\in G$,\n",
        "$$\n",
        "a * b = b * a\n",
        "$$\n",
        "\n",
        "to grupę $(G, *)$ nazwiemy grupą abelową.\n",
        "\n",
        "#### **Definicja 2. (rząd grupy)**\n",
        "Liczbę elementów grupy skończonej nazwiemy rzędem grupy. Rząd grupy powinien być liczbą pierwszą.\n",
        "\n",
        "#### **Definica 3. (generator grupy)**\n",
        "Niech $(G, *)$ będzie grupą skończoną, element $g \\in G$ nazwiemy generatorem grupy $G$, gdy\n",
        "$$\n",
        "G = \\{g^{k} | k \\in \\mathbb{Z}\\}.\n",
        "$$\n",
        "\n",
        "#### **Twierdzenie 1. (o istnieniu generatora)**\n",
        "Niech $p$ będzie liczbą pierwszą, wówczas grupa $\\mathbb{Z}_{p} = \\{1, 2, ..., p - 1\\}$ jest grupą cykliczną, czyli posiada generator $g\\in \\mathbb{Z}_p$.\n",
        "\n",
        "#### **Małe Twierdzenie Fermata**\n",
        "Niech $p$ będzie liczbą pierwszą oraz $ a \\in \\mathbb{Z}_{p}$, wówczas\n",
        "$$\n",
        "a^{-1} \\equiv a^{p-2} \\pmod{p}.\n",
        "$$\n",
        "\n",
        "#### **Protokół Diffiego-Hellmana**\n",
        "Niech $(G, *)$ będzie grupą skończoną o rzędzie $p - 1$, gdzie $p$ jest liczbą pierwszą. Wspólne klucze ustala się w następujących krokach:\n",
        "1. Publiczne ustalenie liczby $p$ i wybór generatora $g$ grupy $G$;\n",
        "2. Osoba $A$ ustala klucz prywatny $a$ i przekazuje osobie $B$ klucz publiczny $g^{a}$ (jako element grupy $G$);\n",
        "3. Osoba $B$ ustala klucz prywatny $b$ i przekazuje osobie $A$ klucz publiczny $g^{b}$ (jako element grupy $G$);\n",
        "4. Obie osoby niezależnie obliczają klucz szyfrujący $g^{ab}$ (jako element grupy $G$) na podstawie posiadanych informacji.\n",
        "\n",
        "#### **Algorytm ElGamala**\n",
        "Niech $(G, *)$ będzie grupą skończoną o rzędzie $p - 1$, gdzie $p$ jest liczbą pierwszą, $g$ jest generatorem grupy $G$, $a$ i $b$ są tajnymi informacjami odpowiednio osoby $A$ i $B$. Niech $1 < m < p$ będzie wiadomością.\n",
        "1. Nadawca $A$ wybiera losową liczbę $k$ i korzystając ze swojego klucza publicznego $g^{a}$ oblicza $g^{ak}$ oraz korzystając z klucza publicznego $g^{a}$ osoby $B$ oblicza $g^{abk}$ w grupie $G$;\n",
        "2. Nadawca $A$ przekazuje odbiorcy $B$ szyfrogram $(g^{ak}, m * g^{abk})$;\n",
        "3. Odbiorca $B$ korzystając z szyfrogramu i klucza prywatnego oblicza $g^{abk}$, a następnie $(g^{abk})^{-1}$;\n",
        "4. Odbiorca $B$ poznaje wiadomość $m$ poprzez operację $m * g^{abk} * (g^{abk})^{-1} = m * e = m$.\n"
      ],
      "metadata": {
        "id": "voQxNTZYXpon"
      }
    },
    {
      "cell_type": "code",
      "source": [
        "# @title Grupa inna niż dodawanie na prostej rzeczywistej?\n",
        "\n",
        "r = 1\n",
        "center = (0, 1)\n",
        "num_points = 7\n",
        "#num_points = input('Liczba punktów: ')\n",
        "\n",
        "theta_circle = np.linspace(0, 2 * np.pi, 300)\n",
        "x_circle = center[0] + r * np.cos(theta_circle)\n",
        "y_circle = center[1] + r * np.sin(theta_circle)\n",
        "\n",
        "theta_circle_2 = np.linspace(0, (2 * np.pi) / num_points, 300)\n",
        "x_circle_2 = center[0] + 1.1 * r * np.cos(theta_circle_2)\n",
        "y_circle_2 = center[1] + 1.1 * r * np.sin(theta_circle_2)\n",
        "\n",
        "theta_circle_3 = np.linspace(-(2 * np.pi) / num_points, 2 * (2 * np.pi) / num_points, 300)\n",
        "x_circle_3 = center[0] + 0.9 * r * np.cos(theta_circle_3)\n",
        "y_circle_3 = center[1] + 0.9 * r * np.sin(theta_circle_3)\n",
        "\n",
        "theta_points = np.linspace(0, 2 * np.pi, num_points, endpoint=False)\n",
        "x_points = center[0] + r * np.cos(theta_points)\n",
        "y_points = center[1] + r * np.sin(theta_points)\n",
        "\n",
        "x_points_annots = center[0] + 1.2 * r * np.cos(theta_points)\n",
        "y_points_annots = center[1] + 1.2 * r * np.sin(theta_points)\n",
        "\n",
        "plt.figure(figsize=(12, 12))\n",
        "plt.plot(x_circle, y_circle, color='black')\n",
        "plt.plot(x_circle_2, y_circle_2, color='red')\n",
        "plt.plot(x_circle_3, y_circle_3, color='blue')\n",
        "#plt.plot([-5, 0, 5], [-0.5, -0.5, -0.5], color='black')\n",
        "plt.plot(x_points, y_points, 'o', color='black', markersize=4)\n",
        "\n",
        "for i, (x, y) in enumerate(zip(x_points_annots, y_points_annots)):\n",
        "    plt.text(x, y, str(i), color='black', fontsize=10, ha='center', va='center')\n",
        "\n",
        "plt.xlim(-4, 4)\n",
        "plt.ylim(-1, 3)\n",
        "\n",
        "plt.gca().set_aspect('equal', adjustable='box')\n",
        "plt.axis('off')\n",
        "plt.show()\n"
      ],
      "metadata": {
        "cellView": "form",
        "id": "lXaYHLwslaiA",
        "colab": {
          "base_uri": "https://localhost:8080/",
          "height": 501
        },
        "outputId": "23f3cc31-9c8b-475a-9529-d72a8c2165ae"
      },
      "execution_count": null,
      "outputs": [
        {
          "output_type": "display_data",
          "data": {
            "text/plain": [
              "<Figure size 1200x1200 with 1 Axes>"
            ],
            "image/png": "[encoded data removed]"
          },
          "metadata": {}
        }
      ]
    },
    {
      "cell_type": "code",
      "source": [
        "# @title Przygotowanie szyfrowania w grupie skończonej\n",
        "\n",
        "print('____________________________________________________________________________________________________________________________')\n",
        "print('\\n')\n",
        "\n",
        "print('Sugestia rzędu grupy przy segmentach czterelementowych: 10006')\n",
        "\n",
        "prime_group = input('Podaj rząd grupy szyfrującej: ')\n",
        "prime_group = str(int(prime_group) + 1)\n",
        "print('\\n')\n",
        "\n",
        "stop_1 = True\n",
        "stop_2 = True\n",
        "\n",
        "while stop_1 | stop_2:\n",
        "  while stop_1:\n",
        "    if len(prime_group) < n_seg + 1:\n",
        "      print(f'Rząd grupy szyfrującej powinien taką liczbą {n_seg + 1}-cyfrową p, że p + 1 jest liczbą pierwszą.')\n",
        "      prime_group = input('Podaj odpowiednią liczbę: ')\n",
        "      prime_group = str(int(prime_group) + 1)\n",
        "      break\n",
        "    else:\n",
        "      stop_1 = False\n",
        "\n",
        "\n",
        "  while stop_2:\n",
        "    for i in range(2, int(np.sqrt(int(prime_group))) + 1):\n",
        "      if int(prime_group) % int(i)  == 0:\n",
        "        print('Rząd grupy szyfrującej powinien być taką liczbą p, że p + 1 jest liczbą pierwszą.')\n",
        "        prime_group = input('Podaj odpowiednią liczbę: ')\n",
        "        prime_group = str(int(prime_group) + 1)\n",
        "        break\n",
        "    else:\n",
        "      stop_2 = False\n",
        "\n",
        "prime_P = input('Podaj liczbę g (druga część klucza publicznego): ')\n",
        "\n",
        "prime_P = str(int(prime_P) % int(prime_group))\n",
        "\n",
        "prime_P = int(prime_P)\n",
        "while not is_primitive_root(prime_P, int(prime_group), rozklad_na_czynniki_pierwsze(int(prime_group) - 1)):\n",
        "  prime_P = (prime_P + 1) % int(prime_group)\n",
        "prime_P = str(prime_P)\n",
        "\n",
        "private_key_a_finite_group = input('Podaj klucz prywatny osoby A: ')\n",
        "print('\\n')\n",
        "private_key_a_finite_group = str(int(private_key_a_finite_group) % int(prime_group))\n",
        "\n",
        "private_key_b_finite_group = input('Podaj klucz prywatny osoby B: ')\n",
        "print('\\n')\n",
        "private_key_b_finite_group = str(int(private_key_b_finite_group) % int(prime_group))\n",
        "\n",
        "print(f'Klucz publiczny osoby A: {prime_group}-{prime_P}-{(int(prime_P)**int(private_key_a_finite_group)) % int(prime_group)}')\n",
        "print(f'Klucz prywatny osoby A: {private_key_a_finite_group}')\n",
        "print('\\n')\n",
        "print(f'Klucz publiczny osoby B: {prime_group}-{prime_P}-{(int(prime_P)**int(private_key_b_finite_group)) % int(prime_group)}')\n",
        "print(f'Klucz prywatny osoby B: {private_key_b_finite_group}')\n",
        "print('\\n')\n",
        "\n",
        "public_key_a_group = f'{prime_group}-{prime_P}-{(int(prime_P)**int(private_key_a_finite_group)) % int(prime_group)}'\n",
        "public_key_b_group = f'{prime_group}-{prime_P}-{(int(prime_P)**int(private_key_b_finite_group)) % int(prime_group)}'\n",
        "\n",
        "print('____________________________________________________________________________________________________________________________')\n",
        "print('\\n')"
      ],
      "metadata": {
        "cellView": "form",
        "id": "TZfyZ4uDcNYY",
        "colab": {
          "base_uri": "https://localhost:8080/"
        },
        "outputId": "a82d2fd7-ced1-4cc3-c55b-8413c8ea972d"
      },
      "execution_count": null,
      "outputs": [
        {
          "output_type": "stream",
          "name": "stdout",
          "text": [
            "____________________________________________________________________________________________________________________________\n",
            "\n",
            "\n",
            "Sugestia rzędu grupy przy segmentach czterelementowych: 10006\n",
            "Podaj rząd grupy szyfrującej: 10006\n",
            "\n",
            "\n",
            "Podaj liczbę g (druga część klucza publicznego): 867\n",
            "Podaj klucz prywatny osoby A: 97\n",
            "\n",
            "\n",
            "Podaj klucz prywatny osoby B: 694\n",
            "\n",
            "\n",
            "Klucz publiczny osoby A: 10007-871-3389\n",
            "Klucz prywatny osoby A: 97\n",
            "\n",
            "\n",
            "Klucz publiczny osoby B: 10007-871-2489\n",
            "Klucz prywatny osoby B: 694\n",
            "\n",
            "\n",
            "____________________________________________________________________________________________________________________________\n",
            "\n",
            "\n"
          ]
        }
      ]
    },
    {
      "cell_type": "code",
      "source": [
        "# @title Szyfrowanie przez osobę B w grupie skończonej\n",
        "print('____________________________________________________________________________________________________________________________')\n",
        "print('\\n')\n",
        "\n",
        "public_key_a = input('Podaj klucz publiczny osoby A: ')\n",
        "print('\\n')\n",
        "private_key_b = input('Podaj klucz prywatny osoby B: ')\n",
        "print('\\n')\n",
        "prime_group_here = public_key_a.split('-')[0]\n",
        "\n",
        "encrypt = prep_to_encrypt.split('-')\n",
        "\n",
        "encrypted_message = []\n",
        "\n",
        "for i in encrypt:\n",
        "  k = random.randint(1, int(prime_group_here))\n",
        "  element1 = (int(public_key_a.split('-')[1]) ** k) % int(prime_group_here)\n",
        "  encrytption_key = (element1**int(private_key_b)) % int(prime_group_here)\n",
        "  element2 = str((int(i) * encrytption_key) % int(prime_group_here))\n",
        "  encrypted_message.append(f'{element1}_{element2}')\n",
        "\n",
        "print('\\n')\n",
        "full_encrypted_message = ''\n",
        "for i in encrypted_message:\n",
        "  full_encrypted_message += i + '-'\n",
        "\n",
        "full_encrypted_message = full_encrypted_message[:-1]\n",
        "print('Zaszyfrowana wiadomość: ')\n",
        "print(full_encrypted_message)\n",
        "\n",
        "print('____________________________________________________________________________________________________________________________')\n",
        "print('\\n')"
      ],
      "metadata": {
        "cellView": "form",
        "id": "20ByHQ-S2hO2",
        "colab": {
          "base_uri": "https://localhost:8080/"
        },
        "outputId": "9ec61123-8b98-4bea-de88-b1803d74ff1f"
      },
      "execution_count": null,
      "outputs": [
        {
          "output_type": "stream",
          "name": "stdout",
          "text": [
            "____________________________________________________________________________________________________________________________\n",
            "\n",
            "\n",
            "Podaj klucz publiczny osoby A: 10007-871-3389\n",
            "\n",
            "\n",
            "Podaj klucz prywatny osoby B: 694\n",
            "\n",
            "\n",
            "\n",
            "\n",
            "Zaszyfrowana wiadomość: \n",
            "8771_1878-2557_2702-4325_8416-1650_8195-7879_329-9441_3145-8170_2135-8474_458-2889_7951-3871_1317-5203_1677-105_4656-5784_7414-347_2304-3294_8164-5361_483-5649_2251-3413_2353-4094_9127-2429_3666-5479_6665-5006_7133-7903_7391-6386_9464-4035_7174-169_7331-9061_2900-5842_7636-5408_3432-2251_7312-6612_8954-9331_627-2565_6217-2248_6742-4075_9507-7985_411-9125_5601-5037_6320-7226_6025-5269_6991-7785_8684-540_4021-3658_2716-7162_7803-2331_3060-6973_1838-9375_5775\n",
            "____________________________________________________________________________________________________________________________\n",
            "\n",
            "\n"
          ]
        }
      ]
    },
    {
      "cell_type": "code",
      "source": [
        "# @title Pierwsza próba odczytu w grupie skończonej\n",
        "\n",
        "print('____________________________________________________________________________________________________________________________')\n",
        "print('\\n')\n",
        "\n",
        "un_key = dict(zip(number, text_split))\n",
        "\n",
        "encryption_attempt_1 = ''\n",
        "\n",
        "for i in full_encrypted_message.split('-'):\n",
        "  encryption_attempt_1 += i.split('_')[1]\n",
        "\n",
        "encryption_attempt_1 = encryption_attempt_1.replace('-', '')\n",
        "\n",
        "sep = '-'\n",
        "n = 2\n",
        "prep_to_decrypt = sep.join([encryption_attempt_1[i:i+n] for i in range(0, len(encryption_attempt_1), n)])\n",
        "\n",
        "message = ''\n",
        "for i in prep_to_decrypt.split('-'):\n",
        "  if int(i) in un_key.keys():\n",
        "    message += un_key[int(i)]\n",
        "  else:\n",
        "    message += '?'\n",
        "\n",
        "print('\\n')\n",
        "print('Odszyfrowana wiadomość: ' + message)\n",
        "\n",
        "print('____________________________________________________________________________________________________________________________')\n",
        "print('\\n')"
      ],
      "metadata": {
        "cellView": "form",
        "id": "fceDkFejAepa",
        "colab": {
          "base_uri": "https://localhost:8080/"
        },
        "outputId": "a0bbdf93-9ab1-4e0e-98d0-53d18c621740"
      },
      "execution_count": null,
      "outputs": [
        {
          "output_type": "stream",
          "name": "stdout",
          "text": [
            "____________________________________________________________________________________________________________________________\n",
            "\n",
            "\n",
            "\n",
            "\n",
            "Odszyfrowana wiadomość: Y?U??I????H?W????WCI????HF?????PS??S?????W??D??C??S?????U?M??U?C????? ?I?????Y???S??????????\n",
            "____________________________________________________________________________________________________________________________\n",
            "\n",
            "\n"
          ]
        }
      ]
    },
    {
      "cell_type": "code",
      "source": [
        "# @title Odszyfrowanie przez osobę A w grupie skończonej\n",
        "\n",
        "print('____________________________________________________________________________________________________________________________')\n",
        "print('\\n')\n",
        "\n",
        "public_key_b = input('Podaj klucz publiczny osoby B: ')\n",
        "print('\\n')\n",
        "private_key_a = input('Podaj klucz prywatny osoby A: ')\n",
        "print('\\n')\n",
        "encrypt = full_encrypted_message.split('-')\n",
        "\n",
        "decrypted_message = []\n",
        "\n",
        "for i in encrypt:\n",
        "  encrytption_key = (int(i.split('_')[0])**int(private_key_b)) % int(prime_group_here)\n",
        "  inv_encrytption_key = (encrytption_key**(int(prime_group_here) - 2)) % int(prime_group_here)\n",
        "  element = str((int(i.split('_')[1]) * inv_encrytption_key) % int(prime_group_here))\n",
        "  decrypted_message.append(f'{element}')\n",
        "\n",
        "print('\\n')\n",
        "full_decrypted_message = ''\n",
        "for i in decrypted_message:\n",
        "  full_decrypted_message += i + '-'\n",
        "\n",
        "full_decrypted_message = full_decrypted_message[:-1]\n",
        "print('Odszyfrowana wiadomość: ')\n",
        "print(full_decrypted_message)\n",
        "\n",
        "print('____________________________________________________________________________________________________________________________')\n",
        "print('\\n')"
      ],
      "metadata": {
        "cellView": "form",
        "id": "9H_LV-QJBeAK",
        "colab": {
          "base_uri": "https://localhost:8080/"
        },
        "outputId": "3c51abcc-45ac-4a6a-ca04-87798ae51647"
      },
      "execution_count": null,
      "outputs": [
        {
          "output_type": "stream",
          "name": "stdout",
          "text": [
            "____________________________________________________________________________________________________________________________\n",
            "\n",
            "\n",
            "Podaj klucz publiczny osoby B: 10007-871-2489\n",
            "\n",
            "\n",
            "Podaj klucz prywatny osoby A: 97\n",
            "\n",
            "\n",
            "\n",
            "\n",
            "Odszyfrowana wiadomość: \n",
            "16-22-23-20-10-28-24-17-21-24-15-25-27-11-29-16-17-26-22-24-15-16-15-20-17-14-10-20-22-24-15-19-24-22-18-17-14-15-20-12-20-11-20-13-18-17-14\n",
            "____________________________________________________________________________________________________________________________\n",
            "\n",
            "\n"
          ]
        }
      ]
    },
    {
      "cell_type": "code",
      "source": [
        "# @title Druga próba odczytu w grupie skończonej\n",
        "\n",
        "print('____________________________________________________________________________________________________________________________')\n",
        "print('\\n')\n",
        "\n",
        "un_key = dict(zip(number, text_split))\n",
        "\n",
        "encryption_attempt_2 = full_decrypted_message\n",
        "\n",
        "encryption_attempt_2 = encryption_attempt_2.replace('-', '')\n",
        "\n",
        "sep = '-'\n",
        "n = 2\n",
        "prep_to_decrypt = sep.join([encryption_attempt_2[i:i+n] for i in range(0, len(encryption_attempt_2), n)])\n",
        "\n",
        "message = ''\n",
        "for i in prep_to_decrypt.split('-'):\n",
        "  if int(i) in un_key.keys():\n",
        "    message += un_key[int(i)]\n",
        "  else:\n",
        "    message += '?'\n",
        "\n",
        "print('\\n')\n",
        "print('Odszyfrowana wiadomość: ' + message)\n",
        "\n",
        "print('____________________________________________________________________________________________________________________________')\n",
        "print('\\n')"
      ],
      "metadata": {
        "cellView": "form",
        "id": "izbAXUJjCWGQ",
        "colab": {
          "base_uri": "https://localhost:8080/"
        },
        "outputId": "da164cb2-e62a-4baa-957e-4dddd81818a8"
      },
      "execution_count": null,
      "outputs": [
        {
          "output_type": "stream",
          "name": "stdout",
          "text": [
            "____________________________________________________________________________________________________________________________\n",
            "\n",
            "\n",
            "\n",
            "\n",
            "Odszyfrowana wiadomość: INFORMACJA PUBLICZNA I OCHRONA DANYCH OSOBOWYCH\n",
            "____________________________________________________________________________________________________________________________\n",
            "\n",
            "\n"
          ]
        }
      ]
    },
    {
      "cell_type": "code",
      "source": [
        "# @title Łamanie kodu przy znajomości pełnych kluczy publicznych\n",
        "\n",
        "print('____________________________________________________________________________________________________________________________')\n",
        "print('\\n')\n",
        "\n",
        "start = time.time()\n",
        "\n",
        "print('Klucz publiczy osoby A: ' + public_key_a)\n",
        "\n",
        "print('Klucz publiczy osoby B: ' + public_key_b)\n",
        "print('\\n')\n",
        "print('Stąd:')\n",
        "\n",
        "l1 = [int(i) for i in public_key_a.split('-')]\n",
        "l2 = [int(i) for i in public_key_b.split('-')]\n",
        "\n",
        "for i in range(int(l1[0])):\n",
        "  if (l1[1]**int(i)) % l1[0] == l1[2]:\n",
        "    hacked_private_key_a = int(i)\n",
        "    break\n",
        "\n",
        "for i in range(int(l2[0])):\n",
        "  if (l2[1]**int(i)) % l2[0] == l2[2]:\n",
        "    hacked_private_key_b = int(i)\n",
        "    break\n",
        "\n",
        "print('Klucz prywatny osoby A: ' + str(hacked_private_key_a))\n",
        "print('Klucz prywatny osoby B: ' + str(hacked_private_key_b))\n",
        "\n",
        "end = time.time()\n",
        "check2 = end - start\n",
        "\n",
        "print('\\n')\n",
        "print('Czas łamania kodu: ' + str(end - start) + ' s.')\n",
        "print('\\n')\n",
        "print(f'Czyli w przypadku grupy skończonej o rzędzie {prime_group} łamanie kodu')\n",
        "print(f'trwa około {round(check2/check)} dłużej niż w klasycznej nieskończonej grupie rzeczywistej.')\n",
        "\n",
        "print('____________________________________________________________________________________________________________________________')\n",
        "print('\\n')"
      ],
      "metadata": {
        "id": "BG5adVCVC2Dz",
        "cellView": "form",
        "colab": {
          "base_uri": "https://localhost:8080/"
        },
        "outputId": "27b6b7a7-52f1-493c-a374-9ec2b47a264c"
      },
      "execution_count": null,
      "outputs": [
        {
          "output_type": "stream",
          "name": "stdout",
          "text": [
            "____________________________________________________________________________________________________________________________\n",
            "\n",
            "\n",
            "Klucz publiczy osoby A: 10007-871-3389\n",
            "Klucz publiczy osoby B: 10007-871-2489\n",
            "\n",
            "\n",
            "Stąd:\n",
            "Klucz prywatny osoby A: 97\n",
            "Klucz prywatny osoby B: 694\n",
            "\n",
            "\n",
            "Czas łamania kodu: 0.005997180938720703 s.\n",
            "\n",
            "\n",
            "Czyli w przypadku grupy skończonej o rzędzie 10007 łamanie kodu\n",
            "trwa około 12 dłużej niż w klasycznej nieskończonej grupie rzeczywistej.\n",
            "____________________________________________________________________________________________________________________________\n",
            "\n",
            "\n"
          ]
        }
      ]
    },
    {
      "cell_type": "code",
      "source": [
        "# @title Ile czasu potrzeba na złamanie kodu w większej grupie skończonej?\n",
        "print('____________________________________________________________________________________________________________________________')\n",
        "print('\\n')\n",
        "print('Sugestie dużych liczb pierwszych: 10007, 100003, 1000003, 10000019, 100000007, 1000000007.')\n",
        "print('Liczby powyżej 100003 mogą okazać się zbyt duże dla Twojego komputera.')\n",
        "print('\\n')\n",
        "number_p = input(\"Podaj dużą liczbę pierwszą: \")\n",
        "print('\\n')\n",
        "\n",
        "stop_p = True\n",
        "while stop_p:\n",
        "  for i in range(2, int(np.sqrt(int(number_p))) + 1):\n",
        "    if int(number_p) % int(i)  == 0:\n",
        "      print('To nie jest liczba pierwsza.')\n",
        "      number_p = input('Podaj odpowiednią liczbę: ')\n",
        "      number_p = str(int(number_p) + 1)\n",
        "      break\n",
        "    else:\n",
        "      stop_p = False\n",
        "\n",
        "number_p = int(number_p)\n",
        "alfa = int(number_p/5)\n",
        "while not is_primitive_root(alfa, int(number_p), rozklad_na_czynniki_pierwsze(int(number_p) - 1)):\n",
        "  alfa = (alfa + 1) % int(number_p)\n",
        "\n",
        "beta = (alfa ** int(number_p/2)) % number_p\n",
        "\n",
        "start = time.time()\n",
        "for i in tqdm(range(int(number_p))):\n",
        "    if (alfa ** i) % number_p == beta:\n",
        "        print('\\n')\n",
        "        print('Hacking successful!')\n",
        "        break\n",
        "end = time.time()\n",
        "check3 = end - start\n",
        "\n",
        "print('\\n')\n",
        "print('Czas łamania kodu: ' + str(end - start) + ' s.')\n",
        "print('\\n')\n",
        "print(f'Czyli w przypadku grupy skończonej o rzędzie {number_p} łamanie kodu')\n",
        "print(f'trwa około {round(check3/check)} dłużej niż w klasycznej nieskończonej grupie rzeczywistej.')\n",
        "print('____________________________________________________________________________________________________________________________')\n",
        "print('\\n')"
      ],
      "metadata": {
        "id": "T3v77_FXkwW5",
        "cellView": "form",
        "colab": {
          "base_uri": "https://localhost:8080/"
        },
        "outputId": "c47e8fb4-b01e-4084-f775-b2103a41b855"
      },
      "execution_count": null,
      "outputs": [
        {
          "name": "stdout",
          "output_type": "stream",
          "text": [
            "____________________________________________________________________________________________________________________________\n",
            "\n",
            "\n",
            "Sugestie dużych liczb pierwszych: 10007, 100003, 1000003, 10000019, 100000007, 1000000007.\n",
            "Liczby powyżej 100003 mogą okazać się zbyt duże dla Twojego komputera.\n",
            "\n",
            "\n",
            "Podaj dużą liczbę pierwszą: 10003\n",
            "\n",
            "\n",
            "To nie jest liczba pierwsza.\n",
            "Podaj odpowiednią liczbę: 100003\n"
          ]
        },
        {
          "output_type": "stream",
          "name": "stderr",
          "text": [
            "  2%|▏         | 2218/100004 [00:00<00:07, 13520.48it/s]"
          ]
        },
        {
          "output_type": "stream",
          "name": "stdout",
          "text": [
            "\n",
            "\n",
            "Hacking successful!\n",
            "\n",
            "\n",
            "Czas łamania kodu: 0.167069673538208 s.\n",
            "\n",
            "\n",
            "Czyli w przypadku grupy skończonej o rzędzie 100004 łamanie kodu\n",
            "trwa około 341 dłużej niż w klasycznej nieskończonej grupie rzeczywistej.\n",
            "____________________________________________________________________________________________________________________________\n",
            "\n",
            "\n"
          ]
        },
        {
          "output_type": "stream",
          "name": "stderr",
          "text": [
            "\n"
          ]
        }
      ]
    },
    {
      "cell_type": "code",
      "source": [
        "# @title Podsumowanie\n",
        "# 100 000 operacji w minutę\n",
        "print('____________________________________________________________________________________________________________________________')\n",
        "print('\\n')\n",
        "print('Podczas prostego testu okazało się, że Python na moim komputerze wykonuje około')\n",
        "print('100 000 operacji zmiennoprzecinkowych w minutę')\n",
        "print('\\n')\n",
        "print('Oznacza to, że przy rzędzie grupy równym 1000000006 na złamanie szyfru potrzebowałby przeciętnie')\n",
        "print(f'około {int((1000000000/100000)/2)} minut, czyli jakieś {round(1000000000/100000/(60*24))/2} dnia ciągłej pracy.')\n",
        "print('\\n')\n",
        "print(f'Dla liczby 100000000000061 potrzebowałby nawet przeciętnie {round(100000000000000/100000/(60*24*365))/2} lat ciągłej pracy.')\n",
        "print('\\n')\n",
        "print('Liczba 100000000000061 jest liczbą 47-bitową, do szyforwania używa się nawet 2048-bitowych liczb.')\n",
        "print('____________________________________________________________________________________________________________________________')\n",
        "print('\\n')"
      ],
      "metadata": {
        "id": "TJgiDasdJQng",
        "cellView": "form",
        "colab": {
          "base_uri": "https://localhost:8080/"
        },
        "outputId": "95b85f95-2ed4-473f-89a8-f5c179ffea01"
      },
      "execution_count": null,
      "outputs": [
        {
          "output_type": "stream",
          "name": "stdout",
          "text": [
            "____________________________________________________________________________________________________________________________\n",
            "\n",
            "\n",
            "Podczas prostego testu okazało się, że Python na moim komputerze wykonuje około\n",
            "100 000 operacji zmiennoprzecinkowych w minutę\n",
            "\n",
            "\n",
            "Oznacza to, że przy rzędzie grupy równym 1000000006 na złamanie szyfru potrzebowałby przeciętnie\n",
            "około 5000 minut, czyli jakieś 3.5 dnia ciągłej pracy.\n",
            "\n",
            "\n",
            "Dla liczby 100000000000061 potrzebowałby nawet przeciętnie 951.5 lat ciągłej pracy.\n",
            "\n",
            "\n",
            "Liczba 100000000000061 jest liczbą 47-bitową, do szyforwania używa się nawet 2048-bitowych liczb.\n",
            "____________________________________________________________________________________________________________________________\n",
            "\n",
            "\n"
          ]
        }
      ]
    },
    {
      "cell_type": "code",
      "source": [
        "# @title Grupa inna niż mnożenie na okręgu?\n",
        "\n",
        "a = 1\n",
        "b = 2\n",
        "\n",
        "y_vals = np.linspace(-1.5, 3, 1000)\n",
        "rhs = y_vals**3 + a * y_vals + b\n",
        "\n",
        "valid_indices = rhs >= 0\n",
        "y_valid = y_vals[valid_indices]\n",
        "x_valid = np.sqrt(rhs[valid_indices])\n",
        "\n",
        "x_curve_pos = x_valid\n",
        "x_curve_neg = -x_valid\n",
        "y_curve = y_valid\n",
        "\n",
        "plt.figure(figsize=(12, 12))\n",
        "\n",
        "plt.plot(x_curve_pos, y_curve, color='black')\n",
        "plt.plot(x_curve_neg, y_curve, color='black')\n",
        "\n",
        "plt.plot([-4, -0.5], [2.5, -1], color='red')\n",
        "plt.plot([-4, 4], [2, 2], '--', color='blue')\n",
        "\n",
        "#for i, (x, y) in enumerate(zip(x_points_annots, y_points_annots)):\n",
        "#    plt.text(x, y, str(i), color='black', fontsize=10, ha='center', va='center')\n",
        "plt.text(-0.5, -0.8, 'a', color = 'red', fontsize=10, ha='center', va='center' )\n",
        "plt.plot(-0.6, -0.9, 'o', color='red', markersize=5)\n",
        "plt.text(-1.29, -0.01, 'b', color = 'red', fontsize=10, ha='center', va='center' )\n",
        "plt.plot(-1.381, -0.11, 'o', color='red', markersize=5)\n",
        "plt.text(3.48, 2.15, 'a + b', color = 'red', fontsize=10, ha='center', va='center' )\n",
        "plt.plot(3.48, 2, 'o', color='red', markersize=5)\n",
        "\n",
        "#plt.plot([-5, 0, 5], [-1.5, -1.5, -1.5], color='black')\n",
        "\n",
        "plt.xlim(-4, 4)\n",
        "plt.ylim(-2, 3)\n",
        "plt.gca().set_aspect('equal', adjustable='box')\n",
        "plt.axis('off')\n",
        "plt.show()\n"
      ],
      "metadata": {
        "cellView": "form",
        "id": "0Q12zHuYSQs6",
        "colab": {
          "base_uri": "https://localhost:8080/",
          "height": 618
        },
        "outputId": "beb58cb8-cba8-404b-dacc-840ff316dd58"
      },
      "execution_count": null,
      "outputs": [
        {
          "output_type": "display_data",
          "data": {
            "text/plain": [
              "<Figure size 1200x1200 with 1 Axes>"
            ],
            "image/png": "[encoded data removed]"
          },
          "metadata": {}
        }
      ]
    },
    {
      "cell_type": "markdown",
      "source": [
        "# Zadania\n",
        "1. Należy utworzyć trzy zespoły: A, B i C. Niech A i B wygenerują klucze prywatne i publiczne. Następnie udostępnią wszystkim klucze publiczne. Lider grupy B zakoduje tajną wiadomość dla grupy A (np. swoje ulubione danie), a następnie grupa B zaszyfruje wiadomość i wyśle do wszystkich. Grupa A postara się odczytać zakodowaną wiadomość. W tym czasie, grupa C podejmie próby złamania szyfru lub zdobycia kluczy prywatnych, ewentualnie przechwycenia jeszcze nie zaszyfrowanej wiadomości.\n",
        "\n",
        "2. Każda osoba generuje swój klucz publiczny i zapisuje na kartce (warto się też podpisać). Następnie uczestnicy zajęć wymieniają się kartkami. Teraz należy zaszyfrować dla właściciela kartki jedno słowo korzystając z matrycy w sekcji \"Kalkulatory do zadań\" i algorytmu ElGamal.\n",
        "\n",
        "3. Kartki z zadania 2. wracają do właścicieli, którzy podejmują próbę odszyfrowania wiadomości.\n",
        "\n",
        "Poniżej znadują się proste programy, które ułatwią wykonanie zdań."
      ],
      "metadata": {
        "id": "mktAkGKc9kk-"
      }
    },
    {
      "cell_type": "code",
      "source": [
        "# @title Tajna wiadomość\n",
        "print('____________________________________________________________________________________________________________________________')\n",
        "print('\\n')\n",
        "\n",
        "text = input('Podaj wiadomość: ')\n",
        "print('\\n')\n",
        "\n",
        "max_len = 0\n",
        "for i in text:\n",
        "  if len(str(ord(i))) > max_len:\n",
        "    max_len = len(str(ord(i)))\n",
        "\n",
        "print('____________________________________________________________________________________________________________________________')\n",
        "print('\\n')"
      ],
      "metadata": {
        "cellView": "form",
        "id": "LCDSil9JCqkf",
        "colab": {
          "base_uri": "https://localhost:8080/"
        },
        "outputId": "4afcc3f9-c16b-4b2a-f9ae-f8e9ac102b5c"
      },
      "execution_count": null,
      "outputs": [
        {
          "output_type": "stream",
          "name": "stdout",
          "text": [
            "____________________________________________________________________________________________________________________________\n",
            "\n",
            "\n",
            "Podaj wiadomość: Test\n",
            "\n",
            "\n",
            "____________________________________________________________________________________________________________________________\n",
            "\n",
            "\n"
          ]
        }
      ]
    },
    {
      "cell_type": "code",
      "source": [
        "# @title Generowanie kluczy\n",
        "\n",
        "print('____________________________________________________________________________________________________________________________')\n",
        "print('\\n')\n",
        "\n",
        "many_keys = input('Czy chcesz wygenerować dwa klucze? (Tak/Nie): ')\n",
        "many_keys = many_keys.lower()\n",
        "\n",
        "print('\\n')\n",
        "\n",
        "print('Sugestia rzędu grupy: 10006')\n",
        "\n",
        "prime_group = input('Podaj rząd grupy szyfrującej: ')\n",
        "prime_group = str(int(prime_group) + 1)\n",
        "print('\\n')\n",
        "\n",
        "stop_1 = True\n",
        "stop_2 = True\n",
        "\n",
        "while stop_1 | stop_2:\n",
        "  while stop_1:\n",
        "    if len(prime_group) < max_len + 1:\n",
        "      print(f'Rząd grupy szyfrującej powinien być taką liczbą {max_len + 1}-cyfrową p, że p + 1 jest liczbą pierwszą.')\n",
        "      prime_group = input('Podaj odpowiednią liczbę: ')\n",
        "      prime_group = str(int(prime_group) + 1)\n",
        "      break\n",
        "    else:\n",
        "      stop_1 = False\n",
        "\n",
        "\n",
        "  while stop_2:\n",
        "    for i in range(2, int(np.sqrt(int(prime_group))) + 1):\n",
        "      if int(prime_group) % int(i) == 0:\n",
        "        print('Rząd grupy szyfrującej powinien być taką liczbą p, że p + 1 jest liczbą pierwszą.')\n",
        "        prime_group = input('Podaj odpowiednią liczbę: ')\n",
        "        prime_group = str(int(prime_group) + 1)\n",
        "        break\n",
        "    else:\n",
        "      stop_2 = False\n",
        "\n",
        "prime_P = input('Podaj liczbę g (druga część klucza publicznego): ')\n",
        "\n",
        "prime_P = str(int(prime_P) % int(prime_group))\n",
        "\n",
        "prime_P = int(prime_P)\n",
        "while not is_primitive_root(prime_P, int(prime_group), rozklad_na_czynniki_pierwsze(int(prime_group) - 1)):\n",
        "  prime_P = (prime_P + 1) % int(prime_group)\n",
        "prime_P = str(prime_P)\n",
        "\n",
        "private_key_a_finite_group = input('Podaj klucz prywatny osoby A: ')\n",
        "print('\\n')\n",
        "private_key_a_finite_group = str(int(private_key_a_finite_group) % int(prime_group))\n",
        "\n",
        "if many_keys == \"tak\":\n",
        "  private_key_b_finite_group = input('Podaj klucz prywatny osoby B: ')\n",
        "  print('\\n')\n",
        "  private_key_b_finite_group = str(int(private_key_b_finite_group) % int(prime_group))\n",
        "\n",
        "print(f'Klucz publiczny osoby A: {prime_group}-{prime_P}-{(int(prime_P)**int(private_key_a_finite_group)) % int(prime_group)}')\n",
        "print(f'Klucz prywatny osoby A: {private_key_a_finite_group}')\n",
        "print('\\n')\n",
        "if many_keys == \"tak\":\n",
        "  print(f'Klucz publiczny osoby B: {prime_group}-{prime_P}-{(int(prime_P)**int(private_key_b_finite_group)) % int(prime_group)}')\n",
        "  print(f'Klucz prywatny osoby B: {private_key_b_finite_group}')\n",
        "  print('\\n')\n",
        "\n",
        "public_key_a_group = f'{prime_group}-{prime_P}-{(int(prime_P)**int(private_key_a_finite_group)) % int(prime_group)}'\n",
        "if many_keys == \"tak\":\n",
        "  public_key_b_group = f'{prime_group}-{prime_P}-{(int(prime_P)**int(private_key_b_finite_group)) % int(prime_group)}'\n",
        "\n",
        "print('____________________________________________________________________________________________________________________________')\n",
        "print('\\n')"
      ],
      "metadata": {
        "cellView": "form",
        "id": "qaq9ZqMO9OJf"
      },
      "execution_count": null,
      "outputs": []
    },
    {
      "cell_type": "code",
      "source": [
        "# @title Szyfrowanie\n",
        "print('____________________________________________________________________________________________________________________________')\n",
        "print('\\n')\n",
        "\n",
        "text_split = list(set(list(text)))\n",
        "\n",
        "#####################\n",
        "\n",
        "max_len = 0\n",
        "encrypted_text = ''\n",
        "for i in text:\n",
        "  encrypted_text += str(ord(i)) + '-'\n",
        "  if len(str(ord(i))) > max_len:\n",
        "    max_len = len(str(ord(i)))\n",
        "\n",
        "#####################\n",
        "\n",
        "prep_to_encrypt = encrypted_text[:-1]\n",
        "print('\\n')\n",
        "\n",
        "#####################\n",
        "\n",
        "public_key_a = input('Podaj klucz publiczny osoby A: ')\n",
        "print('\\n')\n",
        "private_key_b = input('Podaj klucz prywatny osoby B: ')\n",
        "print('\\n')\n",
        "prime_group_here = public_key_a.split('-')[0]\n",
        "\n",
        "encrypt = prep_to_encrypt.split('-')\n",
        "\n",
        "encrypted_message = []\n",
        "\n",
        "for i in encrypt:\n",
        "  k = random.randint(1, int(prime_group_here))\n",
        "  element1 = (int(public_key_a.split('-')[1]) ** k) % int(prime_group_here)\n",
        "  encrytption_key = (element1**int(private_key_b)) % int(prime_group_here)\n",
        "  element2 = str((int(i) * encrytption_key) % int(prime_group_here))\n",
        "  encrypted_message.append(f'{element1}_{element2}')\n",
        "\n",
        "print('\\n')\n",
        "full_encrypted_message = ''\n",
        "for i in encrypted_message:\n",
        "  full_encrypted_message += i + '-'\n",
        "\n",
        "full_encrypted_message = full_encrypted_message[:-1]\n",
        "print('Zaszyfrowana wiadomość: ')\n",
        "print(full_encrypted_message)\n",
        "\n",
        "print('____________________________________________________________________________________________________________________________')\n",
        "print('\\n')"
      ],
      "metadata": {
        "cellView": "form",
        "id": "0X0Q3Ehl90c1"
      },
      "execution_count": null,
      "outputs": []
    },
    {
      "cell_type": "code",
      "source": [
        "# @title Deszyfrowanie\n",
        "\n",
        "print('____________________________________________________________________________________________________________________________')\n",
        "print('\\n')\n",
        "\n",
        "answer = input('Pobrać zaszyfrowaną wiadomość z poprzedniego wywołania? (Tak/Nie): ')\n",
        "print('\\n')\n",
        "\n",
        "if answer == 'Tak':\n",
        "  encrypt = full_encrypted_message.split('-')\n",
        "else:\n",
        "  custom_encrypt = input('Podaj zaszyfrowaną wiadomość: ')\n",
        "  encrypt = custom_encrypt.split('-')\n",
        "\n",
        "print('\\n')\n",
        "\n",
        "\n",
        "public_key_b = input('Podaj klucz publiczny osoby B: ')\n",
        "print('\\n')\n",
        "private_key_a = input('Podaj klucz prywatny osoby A: ')\n",
        "\n",
        "\n",
        "decrypted_message = []\n",
        "\n",
        "for i in encrypt:\n",
        "  encrytption_key = (int(i.split('_')[0])**int(private_key_b)) % int(prime_group_here)\n",
        "  inv_encrytption_key = (encrytption_key**(int(prime_group_here) - 2)) % int(prime_group_here)\n",
        "  element = str((int(i.split('_')[1]) * inv_encrytption_key) % int(prime_group_here))\n",
        "  decrypted_message.append(f'{element}')\n",
        "\n",
        "print('\\n')\n",
        "full_decrypted_message = ''\n",
        "for i in decrypted_message:\n",
        "  full_decrypted_message += i + '-'\n",
        "\n",
        "prep_to_decrypt = full_decrypted_message[:-1]\n",
        "\n",
        "message = ''\n",
        "for i in prep_to_decrypt.split('-'):\n",
        "  message += chr(int(i))\n",
        "\n",
        "print('\\n')\n",
        "print('Odszyfrowana wiadomość: ' + message)\n",
        "\n",
        "print('____________________________________________________________________________________________________________________________')\n",
        "print('\\n')\n"
      ],
      "metadata": {
        "cellView": "form",
        "id": "Kn6XfpY8_2C1"
      },
      "execution_count": null,
      "outputs": []
    },
    {
      "cell_type": "markdown",
      "source": [
        "# Kalkulatory do zadań\n"
      ],
      "metadata": {
        "id": "g-0NofwCTnbP"
      }
    },
    {
      "cell_type": "code",
      "source": [
        "# @title Matryca\n",
        "alphabet = [\n",
        "        'A', 'Ą', 'B', 'C', 'Ć', 'D', 'E', 'Ę', 'F',\n",
        "        'G', 'H', 'I', 'J', 'K', 'L', 'Ł', 'M', 'N',\n",
        "        'Ń', 'O', 'Ó', 'P', 'Q', 'R', 'S', 'Ś', 'T',\n",
        "        'U', 'V', 'W', 'X', 'Y', 'Z', 'Ź', 'Ż', ' '\n",
        "    ]\n",
        "\n",
        "space = ' |  '\n",
        "\n",
        "line1 = '|  '\n",
        "for i in alphabet[:18]:\n",
        "  line1 += i + space\n",
        "print(line1)\n",
        "\n",
        "space = ' | '\n",
        "\n",
        "line2 = '| '\n",
        "for i in range(10, 28):\n",
        "  line2 += str(i) + space\n",
        "print(line2)\n",
        "\n",
        "break_line = ''\n",
        "for i in range(30 * 3 + 1):\n",
        "  break_line += '-'\n",
        "\n",
        "print(break_line)\n",
        "\n",
        "space = ' |  '\n",
        "\n",
        "line4 = '|  '\n",
        "for i in alphabet[18:]:\n",
        "  line4 += i + space\n",
        "print(line4)\n",
        "\n",
        "space = ' | '\n",
        "\n",
        "line5 = '| '\n",
        "for i in range(28, 28 + 18):\n",
        "  line5 += str(i) + space\n",
        "print(line5)\n",
        "\n",
        "\n"
      ],
      "metadata": {
        "cellView": "form",
        "id": "_KwgOpSvCLA9"
      },
      "execution_count": null,
      "outputs": []
    },
    {
      "cell_type": "code",
      "source": [
        "# @title Kalkulator potęgowania modulo\n",
        "\n",
        "print('____________________________________________________________________________________________________________________________')\n",
        "print('\\n')\n",
        "print('Gdy chcesz zakończyć, to zamiast podstawy potęgi wpisz \"stop\".')\n",
        "print('\\n')\n",
        "mod_p = input('Podaj rząd grupy skończonej: ')\n",
        "print('\\n')\n",
        "\n",
        "number = 1\n",
        "while number != 'stop':\n",
        "  number = input('Podaj podstawę potęgi: ')\n",
        "  if number.lower() == 'stop':\n",
        "    break\n",
        "  degree = input('Podaj wykładnik potęgi: ')\n",
        "#  mod_p = input('Podaj rząd grupy skończonej: ')\n",
        "  print('\\n')\n",
        "  print(f'Wynik: {(int(number)**int(degree)) % (int(mod_p) + 1)}')\n",
        "  print('\\n')\n",
        "print('____________________________________________________________________________________________________________________________')\n",
        "print('\\n')\n"
      ],
      "metadata": {
        "cellView": "form",
        "id": "6ZBWppw7RcOl"
      },
      "execution_count": null,
      "outputs": []
    },
    {
      "cell_type": "code",
      "source": [
        "# @title Kalkulator mnożenia modulo\n",
        "print('____________________________________________________________________________________________________________________________')\n",
        "print('\\n')\n",
        "print('Gdy chcesz zakończyć, to zamiast pierwszego czynnika wpisz \"stop\".')\n",
        "print('\\n')\n",
        "mod_p = input('Podaj rząd grupy skończonej: ')\n",
        "print('\\n')\n",
        "\n",
        "number = 1\n",
        "while number != 'stop':\n",
        "  number = input('Podaj pierwszy czynnik: ')\n",
        "  if number.lower() == 'stop':\n",
        "    break\n",
        "  degree = input('Podaj drugi czynnik: ')\n",
        "#  mod_p = input('Podaj rząd grupy skończonej: ')\n",
        "  print('\\n')\n",
        "  print(f'Wynik: {(int(number)*int(degree)) % (int(mod_p) + 1}')\n",
        "  print('\\n')\n",
        "print('____________________________________________________________________________________________________________________________')\n",
        "print('\\n')\n"
      ],
      "metadata": {
        "id": "MVubaxo4TLBy",
        "cellView": "form"
      },
      "execution_count": null,
      "outputs": []
    }
  ]
}